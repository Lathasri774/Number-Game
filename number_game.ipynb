{
  "nbformat": 4,
  "nbformat_minor": 0,
  "metadata": {
    "colab": {
      "provenance": [],
      "collapsed_sections": [],
      "authorship_tag": "ABX9TyNlmxWhXmCZ90gI5jAoHkpg",
      "include_colab_link": true
    },
    "kernelspec": {
      "name": "python3",
      "display_name": "Python 3"
    },
    "language_info": {
      "name": "python"
    }
  },
  "cells": [
    {
      "cell_type": "markdown",
      "metadata": {
        "id": "view-in-github",
        "colab_type": "text"
      },
      "source": [
        "<a href=\"https://colab.research.google.com/github/Lathasri774/Number-Game/blob/main/number_game.ipynb\" target=\"_parent\"><img src=\"https://colab.research.google.com/assets/colab-badge.svg\" alt=\"Open In Colab\"/></a>"
      ]
    },
    {
      "cell_type": "code",
      "execution_count": 1,
      "metadata": {
        "colab": {
          "base_uri": "https://localhost:8080/"
        },
        "id": "OEmMDYEngztQ",
        "outputId": "243e595e-78ff-4c20-d302-bef07bdad15b"
      },
      "outputs": [
        {
          "output_type": "stream",
          "name": "stdout",
          "text": [
            "lets play a game\n",
            "my num is  5\n",
            "\n",
            "you have to choice number between 6 and 15\n",
            "8\n",
            "your num is 8\n",
            "my num is  14\n",
            "\n",
            "you have to choice number between 15 and 24\n",
            "1\n",
            "i won you lose because your input is wrong\n"
          ]
        }
      ],
      "source": [
        "import random\n",
        "a,h1,h2=0,1,10\n",
        "print(\"lets play a game\")\n",
        "while a<100:\n",
        "     a=(random.randrange(a+1,a+10))\n",
        "     print(\"my num is \",a)\n",
        "     print(f\"\\nyou have to choice number between {a+1} and {a+10}\")\n",
        "     b=int(input())\n",
        "     if b>a and b<=a+10:\n",
        "          if(b !=100):\n",
        "               print(f\"your num is {b}\")\n",
        "               a=b\n",
        "          else:\n",
        "               print(\"you won\")\n",
        "               break\n",
        "     elif a==100:\n",
        "          print(\"i won you lose because i hit 100 first\")\n",
        "          break\n",
        "     elif a<=100:\n",
        "          print(\"i won you lose because your input is wrong\")\n",
        "          break\n",
        "     else:\n",
        "          print(\"error choice\")\n",
        "          break"
      ]
    },
    {
      "cell_type": "code",
      "source": [],
      "metadata": {
        "id": "FLRk9Icfk8e6"
      },
      "execution_count": null,
      "outputs": []
    }
  ]
}